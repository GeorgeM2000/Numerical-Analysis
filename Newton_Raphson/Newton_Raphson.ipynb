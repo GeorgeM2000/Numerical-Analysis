{
  "nbformat": 4,
  "nbformat_minor": 0,
  "metadata": {
    "colab": {
      "name": "Newton-Raphson.ipynb",
      "provenance": [],
      "collapsed_sections": []
    },
    "kernelspec": {
      "name": "python3",
      "display_name": "Python 3"
    },
    "language_info": {
      "name": "python"
    }
  },
  "cells": [
    {
      "cell_type": "markdown",
      "source": [
        "<h1>Newton-Raphson<h1> \n",
        "<p>A method for a system of n nonlinear equations with n unknowns.</p>"
      ],
      "metadata": {
        "id": "G3CQ-OlsuOg-"
      }
    },
    {
      "cell_type": "code",
      "source": [
        "import torch as th\n",
        "import matplotlib.pyplot as plt"
      ],
      "metadata": {
        "id": "klHQ05j1ulMm"
      },
      "execution_count": 37,
      "outputs": []
    },
    {
      "cell_type": "code",
      "source": [
        "class NewtonRaphson:\n",
        "\n",
        "  def __init__(self, x, tol, functions):\n",
        "    self.x = x\n",
        "    self.tolerance = tol\n",
        "    self.functions = functions\n",
        "\n",
        "  # Calculate the jacobian matrix\n",
        "  def jacobianMatrix(self):\n",
        "    jacobian = []\n",
        "    for i in range(len(self.functions)):\n",
        "      jacobian.append(list(map(lambda x: x.item(), list(th.autograd.functional.jacobian(self.functions[i], self.x)))))\n",
        "    return th.tensor(jacobian)\n",
        "  \n",
        "  # Calculate inverse jacobian\n",
        "  def inverseJacobian(self):\n",
        "    return th.inverse(self.jacobianMatrix())\n",
        "\n",
        "  # Calculate the function by replacing the unknowns variables with their values\n",
        "  def functionCalculation(self):\n",
        "    functionValues = []\n",
        "    for function in self.functions:\n",
        "      functionValues.append(function(self.x))\n",
        "    return th.tensor([functionValues])\n",
        "\n",
        "  # Main Newton-Raphson algorithm\n",
        "  def newtonRaphson(self):\n",
        "    X = []\n",
        "    localErrors = [[self.x[0].item(), self.x[1].item()]]\n",
        "    counter = 0\n",
        "    while counter < 10 and (localErrors[counter][0] >= self.tolerance and localErrors[counter][1] >= self.tolerance):\n",
        "\n",
        "      # Calculate the jacobian and find anew solution given previous solution\n",
        "      X.append(th.sub(self.x, th.transpose(th.mm(self.inverseJacobian(), th.transpose(self.functionCalculation(), 0, 1)), 0, 1)))\n",
        "\n",
        "      # Calculate the local error for x and y variables \n",
        "      localErrors.append([])\n",
        "      localErrors[counter+1].append(abs(self.x[0].item() - X[counter][0][0].item()))\n",
        "      localErrors[counter+1].append(abs(self.x[1].item() - X[counter][0][1].item()))\n",
        "      \n",
        "\n",
        "      # Update the solution x\n",
        "      self.x = th.tensor(list(map(lambda x: x.item(), list(X[counter][0]))))\n",
        "\n",
        "      # Update the counter\n",
        "      counter += 1\n",
        "\n",
        "    return X, localErrors\n",
        "\n",
        "  # Graph the error for the x and y variables\n",
        "  def graphError(self, errors):\n",
        "    xError = [x[0] for x in errors]\n",
        "    yError = [y[1] for y in errors]\n",
        "    fig, axs = plt.subplots(1, 2)\n",
        "    axs[0].plot(xError)\n",
        "    axs[0].set_title(\"X Variable Error\")\n",
        "    axs[1].plot(yError)\n",
        "    axs[1].set_title(\"Y Variable Error\")\n",
        "    fig.tight_layout()\n",
        "\n"
      ],
      "metadata": {
        "id": "AH2twaYS32-V"
      },
      "execution_count": 39,
      "outputs": []
    },
    {
      "cell_type": "code",
      "source": [
        "# Initial X\n",
        "initialX = th.tensor([1.98, 1.02])\n",
        "\n",
        "functions = []\n",
        "functions.append(lambda x: x[0]+x[0]*x[1]-4)\n",
        "functions.append(lambda x: x[0]+x[1]-3)\n",
        "tolerance = 0.0003\n",
        "\n",
        "NR = NewtonRaphson(initialX, tolerance, functions)\n",
        "x, errors = NR.newtonRaphson()\n",
        "\n",
        "# Show X results\n",
        "for iteration in x:\n",
        "  print(iteration[0])\n",
        "\n",
        "# Show x and y error results\n",
        "for iteration in errors:\n",
        "  print(iteration)\n",
        "\n",
        "# Graph the error\n",
        "NR.graphError(errors)\n"
      ],
      "metadata": {
        "id": "PfjkUQ_SgOsd"
      },
      "execution_count": null,
      "outputs": []
    }
  ]
}