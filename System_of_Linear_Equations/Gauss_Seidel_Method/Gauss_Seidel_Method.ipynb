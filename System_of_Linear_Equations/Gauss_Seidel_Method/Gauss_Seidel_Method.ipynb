{
  "cells": [
    {
      "cell_type": "code",
      "execution_count": 34,
      "metadata": {
        "id": "7m4JL1iWRYA3"
      },
      "outputs": [],
      "source": [
        "import numpy as np\n",
        "import matplotlib.pyplot as plt\n",
        "import time"
      ]
    },
    {
      "cell_type": "code",
      "execution_count": 37,
      "metadata": {
        "id": "UIsYusTmRi-V"
      },
      "outputs": [],
      "source": [
        "class GaussSeidel:\n",
        "  def __init__(self, initialX, A, b, tolerance, maxIterations):\n",
        "    self.x = initialX\n",
        "    self.tolerance = tolerance\n",
        "    self.A = A\n",
        "    self.b = b\n",
        "    self.maxIterations = maxIterations\n",
        "\n",
        "  def gaussSeidel(self):\n",
        "    # Diagonal matrix\n",
        "    D = np.diag(self.A)\n",
        "\n",
        "    # Lower diagonal\n",
        "    L = np.tril(self.A, -1)\n",
        "\n",
        "    # Upper diagonal\n",
        "    U = np.triu(self.A, 1)\n",
        "    iter = 0\n",
        "\n",
        "    # Check whether there is a 0.0 in the diagonal of A\n",
        "    if 0. in D:\n",
        "      # If so, the jacobi method will not converge\n",
        "      return np.array([np.NAN]), iter, None, None\n",
        "\n",
        "    # (L+D)^-1\n",
        "    inverseLD = np.linalg.inv(L+np.diag(D))\n",
        "\n",
        "    # -(L+D)^-1\n",
        "    B = np.asmatrix(-inverseLD) * np.asmatrix(U)\n",
        "\n",
        "    # (L+D)^-1b\n",
        "    C = np.asmatrix(inverseLD) * np.asmatrix(self.b)\n",
        "\n",
        "    # x will initially be a vector with random values\n",
        "    x = np.random.uniform(size=(np.size(self.b), 1))\n",
        "\n",
        "    # The new vector x(newX) will be x0(the initial x guess) \n",
        "    newX = self.x\n",
        "\n",
        "    # List of local errors\n",
        "    # Calculate the infinite norm error value of the initial guess x(x0) and the random vector x\n",
        "    localErrors = [np.linalg.norm(newX - x, np.inf)]\n",
        "\n",
        "    # List of x solutions\n",
        "    xSolutions = [self.x]\n",
        "\n",
        "    # Start time\n",
        "    startTime = time.time()\n",
        "    \n",
        "    while iter < self.maxIterations and localErrors[iter] > self.tolerance:\n",
        "      x = newX\n",
        "      iter += 1\n",
        "\n",
        "      # Calculate a new x solution\n",
        "      newX = np.asmatrix(B) * np.asmatrix(x) + np.asmatrix(C)\n",
        "\n",
        "      # Add the local error to the list of local errors\n",
        "      localErrors.append(np.linalg.norm(newX - x, np.inf))\n",
        "      \n",
        "      # Add the new solution x to the list of solutions\n",
        "      xSolutions.append(newX)\n",
        "\n",
        "    x = newX\n",
        "    xSolutions.append(x)\n",
        "\n",
        "    # End time\n",
        "    endTime = time.time()\n",
        "    print(f'Completed at {endTime - startTime} \\n')\n",
        "\n",
        "    return xSolutions, iter, localErrors, x\n",
        "  \n",
        "  # Plot the local erros\n",
        "  def plotError(self, error):\n",
        "    figure = plt.figure(1)\n",
        "    plt.title(\"Error\")\n",
        "    plt.plot(error[1:])\n",
        "    plt.grid()\n",
        "    plt.show()"
      ]
    },
    {
      "cell_type": "code",
      "execution_count": 39,
      "metadata": {
        "colab": {
          "base_uri": "https://localhost:8080/",
          "height": 646
        },
        "id": "GMnmKiaTXj7E",
        "outputId": "6e1c1d2e-9882-42bb-c6ca-63863e0cffa8"
      },
      "outputs": [
        {
          "name": "stdout",
          "output_type": "stream",
          "text": [
            "Completed at 0.0006809234619140625 \n",
            "\n",
            "X Solutions: \n",
            "[0.][0.][0.]\n",
            "[[1.]][[0.71428571]][[1.03174603]]\n",
            "[[1.03968254]][[1.01473923]][[0.98954397]]\n",
            "[[0.99685059]][[0.99656265]][[1.0010818]]\n",
            "[[1.00056489]][[1.00038978]][[0.99983116]]\n",
            "[[0.99993017]][[0.99994178]][[1.00002199]]\n",
            "[[1.00001003]][[1.00000771]][[0.99999692]]\n",
            "[[0.99999865]][[0.99999893]][[1.00000042]]\n",
            "[[1.00000019]][[1.00000015]][[0.99999994]]\n",
            "[[0.99999997]][[0.99999998]][[1.00000001]]\n",
            "[[1.]][[1.]][[1.]]\n",
            "[[1.]][[1.]][[1.]]\n",
            "[[1.]][[1.]][[1.]]\n",
            "The solution to Ax=b is [[1.]\n",
            " [1.]\n",
            " [1.]]\n",
            "The maximum iteration for the jacobi method is 11\n",
            "The error is 3.9889365144318845e-09\n"
          ]
        },
        {
          "data": {
            "image/png": "[encoded data removed]",
            "text/plain": [
              "<Figure size 432x288 with 1 Axes>"
            ]
          },
          "metadata": {
            "needs_background": "light"
          },
          "output_type": "display_data"
        }
      ],
      "source": [
        "# A matrix\n",
        "A = np.array([\n",
        "    [8, 1, -1],\n",
        "    [1, -7, 2],\n",
        "    [2, 1, 9]\n",
        "])\n",
        "\n",
        "# Tolerance value\n",
        "tolerance = 1e-8\n",
        "\n",
        "# Initial x vector\n",
        "initialX = np.array([0., 0., 0.])\n",
        "initialX = initialX[:, np.newaxis]\n",
        "\n",
        "# b vector\n",
        "b = np.array([8, -4, 12])\n",
        "b = b[:, np.newaxis]\n",
        "\n",
        "gaussSeidel = GaussSeidel(initialX, A, b, tolerance, 20)\n",
        "xSolutions, iter, errors, X = gaussSeidel.gaussSeidel()\n",
        "\n",
        "# Print all the solutions for every iteration\n",
        "print(\"X Solutions: \")\n",
        "# For every x solution\n",
        "for x in xSolutions:\n",
        "  # For every element in the x solution\n",
        "  for elem in x:\n",
        "    print(f'{elem}', end=\"\")\n",
        "  print()\n",
        "\n",
        "# Print the solution to the Ax=b\n",
        "print(f'\\nThe solution to Ax=b is \\n{X}')\n",
        "\n",
        "# Print the maximum iteration the jacobi method has reached\n",
        "print(f'\\nThe maximum iteration for the jacobi method is {iter}')\n",
        "\n",
        "# Print the error\n",
        "print(f'\\nThe error is {errors[-1]}')\n",
        "\n",
        "# Graph the errors\n",
        "gaussSeidel.plotError(errors)"
      ]
    }
  ],
  "metadata": {
    "colab": {
      "collapsed_sections": [],
      "name": "Gauss-Seidel-Method.ipynb",
      "provenance": []
    },
    "kernelspec": {
      "display_name": "Python 3",
      "name": "python3"
    },
    "language_info": {
      "name": "python"
    }
  },
  "nbformat": 4,
  "nbformat_minor": 0
}
