{
  "cells": [
    {
      "cell_type": "code",
      "execution_count": 2,
      "metadata": {
        "id": "t3VUTk6huAVW"
      },
      "outputs": [],
      "source": [
        "import random\n",
        "import time\n",
        "import matplotlib.pyplot as plt\n",
        "import numpy as np "
      ]
    },
    {
      "cell_type": "code",
      "execution_count": 4,
      "metadata": {
        "id": "zk9BKRBNuAVZ"
      },
      "outputs": [],
      "source": [
        "class Jacobi:\n",
        "  def __init__(self, x, A, b, tolerance, maxIterations):\n",
        "    self.x = x\n",
        "    self.A = A\n",
        "    self.b = b\n",
        "    self.tolerance = tolerance\n",
        "    self.maxIterations = maxIterations\n",
        "\n",
        "  def jacobi(self):\n",
        "    iter = 0\n",
        "    # Diagonal matrix\n",
        "    D = np.diag(self.A)\n",
        "\n",
        "    # Lower diagonal matrix\n",
        "    L = np.tril(self.A, -1)\n",
        "\n",
        "    # Upper diagonal matrix\n",
        "    U = np.triu(self.A, 1)\n",
        "\n",
        "    # Check whether there is a 0.0 in the diagonal of A\n",
        "    if 0.0 in D:\n",
        "      # If so, the jacobi method will not converge\n",
        "      return np.array([np.NAN]), iter\n",
        "\n",
        "    # D^-1\n",
        "    inverseD = np.diag(1/D)\n",
        "\n",
        "    # -D^-1(L+U)\n",
        "    B = np.asmatrix(-inverseD) * np.asmatrix(L + U)\n",
        "\n",
        "    # D^-1b\n",
        "    C = np.asmatrix(inverseD) * np.asmatrix(self.b)\n",
        "\n",
        "    # x will initially be a vector with random values\n",
        "    x = np.random.uniform(size=(np.size(self.b), 1))\n",
        "\n",
        "    # The new vector x(newX) will be x0(the initial x guess) \n",
        "    newX = self.x\n",
        "\n",
        "    # List of local errors\n",
        "    # Calculate the infinite norm error value of the initial guess x(x0) and the random vector x\n",
        "    localErrors = [np.linalg.norm(newX - x, np.inf)]\n",
        "\n",
        "    # List of x solutions\n",
        "    xSolutions = [self.x]\n",
        "\n",
        "    # Start time\n",
        "    startTime = time.time()\n",
        "\n",
        "    while iter < self.maxIterations and localErrors[iter] > self.tolerance:\n",
        "      \n",
        "      x = newX\n",
        "      iter += 1\n",
        "      # Calculate a new x solution\n",
        "      newX = np.asmatrix(B) * np.asmatrix(x) + np.asmatrix(C)\n",
        "\n",
        "      # Add the local error to the localErros list\n",
        "      localErrors.append(np.linalg.norm(newX - x, np.inf))\n",
        "\n",
        "      # Add the new x solution to the the xSolutions list\n",
        "      xSolutions.append(newX)\n",
        "      \n",
        "    x = newX\n",
        "    xSolutions.append(x)\n",
        "\n",
        "    # End time\n",
        "    endTime = time.time()\n",
        "    print(f'Completed at {endTime - startTime} \\n')\n",
        "\n",
        "    return xSolutions, iter, localErrors, x\n",
        "\n",
        "  # Plot the local erros\n",
        "  def plotError(self, error):\n",
        "    figure = plt.figure(1)\n",
        "    plt.title(\"Error\")\n",
        "    plt.plot(error[1:])\n",
        "    plt.grid()\n",
        "    plt.show()\n",
        "\n"
      ]
    },
    {
      "cell_type": "code",
      "execution_count": 6,
      "metadata": {
        "id": "g7jg3WZIuAVa",
        "colab": {
          "base_uri": "https://localhost:8080/",
          "height": 732
        },
        "outputId": "0699a30a-a1df-4ff1-f4ab-fe7db9b215ce"
      },
      "outputs": [
        {
          "output_type": "stream",
          "name": "stdout",
          "text": [
            "Completed at 0.0015048980712890625 \n",
            "\n",
            "X Solutions: \n",
            "[0.][0.][0.]\n",
            "[[1.]][[0.57142857]][[1.33333333]]\n",
            "[[1.0952381]][[1.0952381]][[1.04761905]]\n",
            "[[0.99404762]][[1.02721088]][[0.96825397]]\n",
            "[[0.99263039]][[0.99007937]][[0.99829932]]\n",
            "[[1.00102749]][[0.99846129]][[1.00273998]]\n",
            "[[1.00053484]][[1.00092964]][[0.99994264]]\n",
            "[[0.99987662]][[1.00006002]][[0.99977785]]\n",
            "[[0.99996473]][[0.9999189]][[1.00002075]]\n",
            "[[1.00001273]][[1.00000089]][[1.00001685]]\n",
            "[[1.00000199]][[1.00000663]][[0.99999707]]\n",
            "[[0.9999988]][[0.99999945]][[0.99999882]]\n",
            "[[0.99999992]][[0.99999949]][[1.00000033]]\n",
            "[[1.0000001]][[1.00000008]][[1.00000007]]\n",
            "[[1.]][[1.00000004]][[0.99999997]]\n",
            "[[0.99999999]][[0.99999999]][[1.]]\n",
            "[[1.]][[1.]][[1.]]\n",
            "[[1.]][[1.]][[1.]]\n",
            "The solution to Ax=b is [[1.]\n",
            " [1.]\n",
            " [1.]]\n",
            "The maximum iteration for the jacobi method is 16\n",
            "The error is 9.243246834600427e-09\n"
          ]
        },
        {
          "output_type": "display_data",
          "data": {
            "text/plain": [
              "<Figure size 432x288 with 1 Axes>"
            ],
            "image/png": "[encoded data removed]"
          },
          "metadata": {
            "needs_background": "light"
          }
        }
      ],
      "source": [
        "# A matrix\n",
        "A = np.array([\n",
        "    [8, 1, -1],\n",
        "    [1, -7, 2],\n",
        "    [2, 1, 9]\n",
        "])\n",
        "\n",
        "# Tolerance value\n",
        "tolerance = 1e-8\n",
        "\n",
        "# Initial x vector\n",
        "initialX = np.array([0., 0., 0.])\n",
        "initialX = initialX[:, np.newaxis]\n",
        "\n",
        "# b vector\n",
        "b = np.array([8, -4, 12])\n",
        "b = b[:, np.newaxis]\n",
        "\n",
        "jacobi = Jacobi(initialX, A, b, tolerance, 20)\n",
        "xSolutions, iter, errors, X = jacobi.jacobi()\n",
        "\n",
        "# Print all the solutions for every iteration\n",
        "print(\"X Solutions: \")\n",
        "# For every x solution\n",
        "for x in xSolutions:\n",
        "  # For every element in the x solution\n",
        "  for elem in x:\n",
        "    print(f'{elem}', end=\"\")\n",
        "  print()\n",
        "\n",
        "# Print the solution to the Ax=b\n",
        "print(f'The solution to Ax=b is {X}')\n",
        "\n",
        "# Print the maximum iteration the jacobi method has reached\n",
        "print(f'The maximum iteration for the jacobi method is {iter}')\n",
        "\n",
        "# Print the error\n",
        "print(f'The error is {errors[-1]}')\n",
        "\n",
        "# Graph the errors\n",
        "jacobi.plotError(errors)"
      ]
    }
  ],
  "metadata": {
    "language_info": {
      "name": "python"
    },
    "orig_nbformat": 4,
    "colab": {
      "name": "JacobiMethod.ipynb",
      "provenance": [],
      "collapsed_sections": []
    },
    "kernelspec": {
      "name": "python3",
      "display_name": "Python 3"
    }
  },
  "nbformat": 4,
  "nbformat_minor": 0
}